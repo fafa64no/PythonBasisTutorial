{
 "cells": [
  {
   "metadata": {},
   "cell_type": "markdown",
   "source": "# Section 1",
   "id": "c621cc6fe2f045d1"
  },
  {
   "cell_type": "code",
   "execution_count": null,
   "id": "initial_id",
   "metadata": {
    "collapsed": true
   },
   "outputs": [],
   "source": "print(\"greuh\")"
  },
  {
   "metadata": {},
   "cell_type": "markdown",
   "source": [
    "# Gggh\n",
    "\n",
    "## ghgjjhg\n",
    "\n",
    "### gggj\n",
    "\n",
    "- fdg\n",
    "\n",
    "fdfsd"
   ],
   "id": "30c003af8725c359"
  },
  {
   "metadata": {},
   "cell_type": "markdown",
   "source": "# Section 2",
   "id": "2a73d68127d4316d"
  },
  {
   "metadata": {
    "ExecuteTime": {
     "end_time": "2025-10-04T18:03:06.338592Z",
     "start_time": "2025-10-04T18:03:06.335829Z"
    }
   },
   "cell_type": "code",
   "source": "print(\"grah\")",
   "id": "15aa70a8359e6eea",
   "outputs": [
    {
     "name": "stdout",
     "output_type": "stream",
     "text": [
      "grah\n"
     ]
    }
   ],
   "execution_count": 1
  },
  {
   "metadata": {},
   "cell_type": "markdown",
   "source": "hdfhsdgfh\n",
   "id": "635ac772a6f60dea"
  },
  {
   "metadata": {},
   "cell_type": "code",
   "outputs": [],
   "execution_count": null,
   "source": "",
   "id": "9c6408b201977ff1"
  },
  {
   "metadata": {},
   "cell_type": "code",
   "outputs": [],
   "execution_count": null,
   "source": [
    "for i in range(10):\n",
    "    print(i)"
   ],
   "id": "225f57212adfc0ac"
  }
 ],
 "metadata": {
  "kernelspec": {
   "display_name": "Python 3",
   "language": "python",
   "name": "python3"
  },
  "language_info": {
   "codemirror_mode": {
    "name": "ipython",
    "version": 2
   },
   "file_extension": ".py",
   "mimetype": "text/x-python",
   "name": "python",
   "nbconvert_exporter": "python",
   "pygments_lexer": "ipython2",
   "version": "2.7.6"
  }
 },
 "nbformat": 4,
 "nbformat_minor": 5
}
